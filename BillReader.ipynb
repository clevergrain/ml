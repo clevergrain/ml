{
 "cells": [
  {
   "cell_type": "code",
   "execution_count": 4,
   "metadata": {},
   "outputs": [],
   "source": [
    "from PyPDF2 import PdfReader\n",
    "\n",
    "reader = PdfReader(\"response.pdf\")\n",
    "\n",
    "text = reader.pages[0].extract_text()\n"
   ]
  },
  {
   "cell_type": "code",
   "execution_count": 5,
   "metadata": {},
   "outputs": [
    {
     "name": "stdout",
     "output_type": "stream",
     "text": [
      "CONTACT US: URJANET.COM\n",
      "PHONE NUMBER: 678-439-8752\n",
      "CORRESPONDENCE: 1350 Spring St NW, Atlanta, GA 30309\n",
      "INVOICE\n",
      "Account Number #101101101\n",
      "PREPARED FOR\n",
      "Ganza, Bran\n",
      "3153  Parkway Drive\n",
      "Tucson, AZ 85704\n",
      "Bill Summary\n",
      "Service Address: 3153  Parkway Drive\n",
      "Tucson, AZ, 85704\n",
      "Previous Balance: $57.96\n",
      "Payments Received: 7/4/22 -$57.96 \n",
      "Outstanding Balance: $0\n",
      "Current Electric Charge: $94.71\n",
      "Other Charges & Credits: $0\n",
      "Total Amount Due by 8/4/22: $94.71\n",
      "Payment received after undefined will incur a late charge. A late\n",
      "payment charge is applied to the unpaid balance of your \n",
      "statement charges.\n",
      "The charge is up to 1.5% for the first month; additional charges\n",
      "will be assessed\n",
      "on unpaid balances past the first month, not to exceed 5%.ISSUED DATE\n",
      "7/20/22\n",
      "DUE DATE\n",
      "8/4/22\n"
     ]
    }
   ],
   "source": [
    "print (text)"
   ]
  },
  {
   "cell_type": "code",
   "execution_count": 6,
   "metadata": {},
   "outputs": [
    {
     "name": "stdout",
     "output_type": "stream",
     "text": [
      "Electric Details: $94.71\n",
      "Billing Period: 6/20/22 - 7/20/22\n",
      "Days Billed: 30\n",
      "Next Scheduled Reading: 8/3/22\n",
      "Meter #G739347292 Read on 7/20/22\n",
      "Current Reading: 53824\n",
      "Previous Reading: - 53220\n",
      "kWh used: 604\n",
      "Electric Supply \n",
      "Commodity Charge: 604 x 0.1018954\n",
      "Total Electric Supply Charge: $ 61.54\n",
      "Electric Delivery\n",
      "Customer Charge: 8\n",
      "Delivery Charge: 604 x 0.0083 = 5.01\n",
      "Distribution Charge: 604 x 0.0321 = 19.39\n",
      "Total Delivery Charge: $ 32.4\n",
      "Taxes & Fees\n",
      "Universal Service Program: 0.32 \n",
      "Environmental Surcharge: 604 x 0.000129 = 0.08\n",
      "Franchise Tax: 604 x 0.00062 = 0.37\n",
      "Total Taxes & Fees: $ 0.77\n"
     ]
    }
   ],
   "source": [
    "text_bill = reader.pages[1].extract_text()\n",
    "print (text_bill)"
   ]
  },
  {
   "cell_type": "code",
   "execution_count": null,
   "metadata": {},
   "outputs": [],
   "source": []
  }
 ],
 "metadata": {
  "kernelspec": {
   "display_name": "Python 3.9.13 64-bit",
   "language": "python",
   "name": "python3"
  },
  "language_info": {
   "codemirror_mode": {
    "name": "ipython",
    "version": 3
   },
   "file_extension": ".py",
   "mimetype": "text/x-python",
   "name": "python",
   "nbconvert_exporter": "python",
   "pygments_lexer": "ipython3",
   "version": "3.9.13"
  },
  "orig_nbformat": 4,
  "vscode": {
   "interpreter": {
    "hash": "b0fa6594d8f4cbf19f97940f81e996739fb7646882a419484c72d19e05852a7e"
   }
  }
 },
 "nbformat": 4,
 "nbformat_minor": 2
}
